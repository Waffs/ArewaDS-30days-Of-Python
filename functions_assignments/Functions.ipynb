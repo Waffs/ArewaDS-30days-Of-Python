{
 "cells": [
  {
   "cell_type": "markdown",
   "id": "7ba8f08e",
   "metadata": {},
   "source": [
    "# Exercise 8-1"
   ]
  },
  {
   "cell_type": "markdown",
   "id": "0f761776",
   "metadata": {},
   "source": [
    "#Message: Write a function called display_message() that prints one sentence telling everyone what you are learning about in this chapter. Call the \n",
    "#function, and make sure the message displays correctly."
   ]
  },
  {
   "cell_type": "code",
   "execution_count": 1,
   "id": "8dd1a4cd",
   "metadata": {},
   "outputs": [
    {
     "name": "stdout",
     "output_type": "stream",
     "text": [
      "In this chapter, we learning how to a create and called functions in Python.\n"
     ]
    }
   ],
   "source": [
    "def display_message():\n",
    "    print(\"In this chapter, we learning how to a create and called functions in Python.\")\n",
    "\n",
    "# Call the function to display the message\n",
    "display_message()\n"
   ]
  },
  {
   "cell_type": "markdown",
   "id": "ee611a2b",
   "metadata": {},
   "source": [
    "# Exercise 8-2"
   ]
  },
  {
   "cell_type": "markdown",
   "id": "0392a45a",
   "metadata": {},
   "source": [
    "Write a function called favorite_book() that accepts one \n",
    "parameter, title. The function should print a message, such as One of my \n",
    "favorite books is Alice in Wonderland. Call the function, making sure to \n",
    "include a book title as an argument in the function call."
   ]
  },
  {
   "cell_type": "code",
   "execution_count": 2,
   "id": "4da12fe1",
   "metadata": {},
   "outputs": [
    {
     "name": "stdout",
     "output_type": "stream",
     "text": [
      "One of my favorite books is No Excuses by brain tracy.\n"
     ]
    }
   ],
   "source": [
    "def favorite_book(title):\n",
    "    print(f\"One of my favorite books is {title}.\")\n",
    "\n",
    "# Call the function with a specific book title\n",
    "favorite_book(\"No Excuses by brain tracy\")\n"
   ]
  },
  {
   "cell_type": "markdown",
   "id": "950137e9",
   "metadata": {},
   "source": [
    "# Exercise 8-3"
   ]
  },
  {
   "cell_type": "markdown",
   "id": "dc3d5a60",
   "metadata": {},
   "source": [
    "Write a function called make_shirt() that accepts a size and the \n",
    "text of a message that should be printed on the shirt. The function should print a \n",
    "sentence summarizing the size of the shirt and the message printed on it.\n",
    "Call the function once using positional arguments to make a shirt. Call the \n",
    "function a second time using keyword arguments."
   ]
  },
  {
   "cell_type": "code",
   "execution_count": 35,
   "id": "e0e5d4fe",
   "metadata": {},
   "outputs": [],
   "source": [
    "def make_shirt():\n",
    "    size = input(\"Enter the shirt size: \")\n",
    "    text = input(\"Enter the message to be printed on the shirt: \")\n",
    "    print(f\"Creating a {size}-sized shirt with the message: '{text}'.\")\n",
    "\n",
    "# Call the function to get input from user\n",
    "make_shirt()\n",
    "\n"
   ]
  },
  {
   "cell_type": "markdown",
   "id": "171d6031",
   "metadata": {},
   "source": [
    "# Exercise 8-4"
   ]
  },
  {
   "cell_type": "markdown",
   "id": "f3990c0d",
   "metadata": {},
   "source": [
    "Modify the make_shirt() function so that shirts are large \n",
    "by default with a message that reads I love Python. Make a large shirt and a \n",
    "medium shirt with the default message, and a shirt of any size with a different \n",
    "message."
   ]
  },
  {
   "cell_type": "code",
   "execution_count": null,
   "id": "3cf908bc",
   "metadata": {},
   "outputs": [
    {
     "name": "stdout",
     "output_type": "stream",
     "text": [
      "Creating a large shirt with the message: 'Coding is sweet'\n",
      "Creating a medium shirt with the message: 'Coding is sweet'\n",
      "Creating a small shirt with the message: 'Coding is fun!'\n"
     ]
    }
   ],
   "source": [
    "def make_shirt(size='large', message='Coding is sweet'):\n",
    "    print(f\"Creating a {size} shirt with the message: '{message}'\")\n",
    "\n",
    "# Make a large shirt with the default message\n",
    "make_shirt()\n",
    "\n",
    "# Make a medium shirt with the default message\n",
    "make_shirt(size='medium')\n",
    "\n",
    "# Make a shirt of any size with a different message\n",
    "make_shirt(size='small', message='Coding is fun!')\n",
    "\n"
   ]
  },
  {
   "cell_type": "markdown",
   "id": "090602d2",
   "metadata": {},
   "source": [
    "# Exercise 8-5"
   ]
  },
  {
   "cell_type": "markdown",
   "id": "010f807e",
   "metadata": {},
   "source": [
    "Write a function called describe_city() that accepts the name of \n",
    "a city and its country. The function should print a simple sentence, such as \n",
    "Reykjavik is in Iceland. Give the parameter for the country a default value. \n",
    "Call your function for three different cities, at least one of which is not in the \n",
    "default country."
   ]
  },
  {
   "cell_type": "code",
   "execution_count": null,
   "id": "5a517bb2",
   "metadata": {},
   "outputs": [
    {
     "name": "stdout",
     "output_type": "stream",
     "text": [
      "Palo Alto is in Iceland.\n",
      "Kano is in Kano.\n",
      "Abuja is in Default Country.\n"
     ]
    }
   ],
   "source": [
    "def describe_city(city, country='Default Country'):\n",
    "    print(f\"{city} is in {country}.\")\n",
    "\n",
    "# Call the function for three different cities\n",
    "describe_city('Palo Alto', 'Iceland')\n",
    "describe_city('Kano', 'Kano')\n",
    "describe_city('Abuja')  # Uses the default country\n"
   ]
  },
  {
   "cell_type": "markdown",
   "id": "166e2fb1",
   "metadata": {},
   "source": [
    "# Exercise 8-6"
   ]
  },
  {
   "cell_type": "markdown",
   "id": "d9221ca3",
   "metadata": {},
   "source": [
    "Write a function called city_country() that takes in the name \n",
    "of a city and its country. The function should return a string formatted like this:\n",
    "\"Santiago, Chile\"\n",
    "Call your function with at least three city-country pairs, and print the values \n",
    "that are returned."
   ]
  },
  {
   "cell_type": "code",
   "execution_count": null,
   "id": "e5432920",
   "metadata": {},
   "outputs": [
    {
     "name": "stdout",
     "output_type": "stream",
     "text": [
      "London, England\n",
      "Kano, Nigeria\n",
      "Cairo, Eqypt\n"
     ]
    }
   ],
   "source": [
    "def city_country(city, country):\n",
    "    return f\"{city}, {country}\"\n",
    "\n",
    "# Call the function with three city-country pairs and print the returned values\n",
    "print(city_country('London', 'England'))\n",
    "print(city_country('Kano', 'Nigeria'))\n",
    "print(city_country('Cairo', 'Eqypt'))\n"
   ]
  },
  {
   "cell_type": "markdown",
   "id": "97cc03eb",
   "metadata": {},
   "source": [
    "# Exercise 8-7"
   ]
  },
  {
   "cell_type": "markdown",
   "id": "7f18dc33",
   "metadata": {},
   "source": [
    "Write a function called make_album() that builds a dictionary \n",
    "describing a music album. The function should take in an artist name and an \n",
    "album title, and it should return a dictionary containing these two pieces of \n",
    "information. Use the function to make three dictionaries representing different \n",
    "albums. Print each return value to show that the dictionaries are storing the \n",
    "album information correctly.\n",
    "Use None to add an optional parameter to make_album() that allows you to \n",
    "store the number of songs on an album. If the calling line includes a value for \n",
    "the number of songs, add that value to the album’s dictionary. Make at least \n",
    "one new function call that includes the number of songs on an album."
   ]
  },
  {
   "cell_type": "code",
   "execution_count": null,
   "id": "35d9eb45",
   "metadata": {},
   "outputs": [
    {
     "name": "stdout",
     "output_type": "stream",
     "text": [
      "{'artist': 'Rihana', 'title': 'I like the way you lie', 'songs': 13}\n",
      "{'artist': 'Lilwayne', 'title': 'lolipop', 'songs': 14}\n",
      "{'artist': 'wiskid', 'title': 'No matter', 'songs': 12}\n"
     ]
    }
   ],
   "source": [
    "def make_album(artist, title, songs=None):\n",
    "    album_info = {'artist': artist, 'title': title}\n",
    "    if songs:\n",
    "        album_info['songs'] = songs\n",
    "    return album_info\n",
    "\n",
    "# Make three dictionaries representing different Akon albums\n",
    "album = make_album('Rihana', 'I like the way you lie', songs=13)\n",
    "album2 = make_album('Lilwayne', 'lolipop', songs=14)\n",
    "album3 = make_album('wiskid', 'No matter', songs=12)\n",
    "\n",
    "# Print each return value to show that the dictionaries are storing the album information correctly\n",
    "print(album)\n",
    "print(album2)\n",
    "print(album3)\n"
   ]
  },
  {
   "cell_type": "markdown",
   "id": "2bf16849",
   "metadata": {},
   "source": [
    "# Exercise 8-8"
   ]
  },
  {
   "cell_type": "markdown",
   "id": "75de4b27",
   "metadata": {},
   "source": [
    "Start with your program from Exercise 8-7. Write a while \n",
    "loop that allows users to enter an album’s artist and title. Once you have that \n",
    "information, call make_album() with the user’s input and print the dictionary \n",
    "that’s created. Be sure to include a quit value in the while loop."
   ]
  },
  {
   "cell_type": "code",
   "execution_count": null,
   "id": "601213bc",
   "metadata": {},
   "outputs": [],
   "source": [
    "def make_album(artist, title, songs=None):\n",
    "    album_info = {'artist': artist, 'title': title}\n",
    "    if songs:\n",
    "        album_info['songs'] = songs\n",
    "    return album_info\n",
    "\n",
    "while True:\n",
    "    artist_input = input(\"Write the artist's name (or 'quit' to exit): \")\n",
    "    if artist_input.lower() == 'quit':\n",
    "        break\n",
    "    \n",
    "    title_input = input(\"Enter the album title: \")\n",
    "    \n",
    "    album_info = make_album(artist_input, title_input)\n",
    "   \n",
    "    # Print the created dictionary\n",
    "    print(album_info)\n"
   ]
  },
  {
   "cell_type": "markdown",
   "id": "cd8aec5f",
   "metadata": {},
   "source": [
    "# Exercise 8-9"
   ]
  },
  {
   "cell_type": "markdown",
   "id": "a078ddf4",
   "metadata": {},
   "source": [
    "Messages: Make a list containing a series of short text messages. Pass the \n",
    "list to a function called show_messages(), which prints each text message."
   ]
  },
  {
   "cell_type": "code",
   "execution_count": null,
   "id": "3061f20d",
   "metadata": {},
   "outputs": [
    {
     "name": "stdout",
     "output_type": "stream",
     "text": [
      " A heartfelt appreciation to the mentors at Arewa Data Science for granting me the invaluable opportunity to delve into the realm of data science with such ease!\n",
      "The guidance provided by the mentors is truly priceless, and I am sincerely grateful for their unwavering mentorship. Their wealth of knowledge has been a guiding light on this learning journey.\n",
      "I want to express my sincere gratitude for the continuous support and the generosity in sharing their wealth of knowledge. Each interaction has been a stepping stone towards a deeper understanding of data science concepts.\n",
      "Being part of this learning community is truly a privilege, and I feel fortunate to connect with such experienced mentors and fellow learners. Thank you for fostering an environment where curiosity thrives and knowledge blossoms!\n"
     ]
    }
   ],
   "source": [
    "def show_messages(messages):\n",
    "    for message in messages:\n",
    "        print(message)\n",
    "\n",
    "# List of short text messages thanking Arewa Data Science Machine Learning Mentors\n",
    "thank_message = [\n",
    "    \" A heartfelt appreciation to the mentors at Arewa Data Science for granting me the invaluable opportunity to delve into the realm of data science with such ease!\",\n",
    "\n",
    "\"The guidance provided by the mentors is truly priceless, and I am sincerely grateful for their unwavering mentorship. Their wealth of knowledge has been a guiding light on this learning journey.\",\n",
    "\n",
    "\"I want to express my sincere gratitude for the continuous support and the generosity in sharing their wealth of knowledge. Each interaction has been a stepping stone towards a deeper understanding of data science concepts.\",\n",
    "\n",
    "\"Being part of this learning community is truly a privilege, and I feel fortunate to connect with such experienced mentors and fellow learners. Thank you for fostering an environment where curiosity thrives and knowledge blossoms!\"\n",
    "\n",
    "]\n",
    "\n",
    "# Call the function to show the thank you messages\n",
    "show_messages(thank_message)\n"
   ]
  },
  {
   "cell_type": "markdown",
   "id": "5a392ec5",
   "metadata": {},
   "source": [
    "# Exercise 8-10"
   ]
  },
  {
   "cell_type": "markdown",
   "id": "da63b060",
   "metadata": {},
   "source": [
    "##Sending Messages: Start with a copy of your program from Exercise 8-9. \n",
    "Write a function called send_messages() that prints each text message and \n",
    "moves each message to a new list called sent_messages as it’s printed. After \n",
    "calling the function, print both of your lists to make sure the messages were \n",
    "moved correctly."
   ]
  },
  {
   "cell_type": "code",
   "execution_count": null,
   "id": "52d7a37e",
   "metadata": {},
   "outputs": [
    {
     "name": "stdout",
     "output_type": "stream",
     "text": [
      "Sending message:  A heartfelt appreciation to the mentors at Arewa Data Science for granting me the invaluable opportunity to delve into the realm of data science with such ease!\n",
      "Sending message: The guidance provided by the mentors is truly priceless, and I am sincerely grateful for their unwavering mentorship. Their wealth of knowledge has been a guiding light on this learning journey.\n",
      "Sending message: I want to express my sincere gratitude for the continuous support and the generosity in sharing their wealth of knowledge. Each interaction has been a stepping stone towards a deeper understanding of data science concepts.\n",
      "Sending message: Being part of this learning community is truly a privilege, and I feel fortunate to connect with such experienced mentors and fellow learners. Thank you for fostering an environment where curiosity thrives and knowledge blossoms!\n",
      "\n",
      "Original messages:\n",
      "\n",
      "Sent messages:\n",
      " A heartfelt appreciation to the mentors at Arewa Data Science for granting me the invaluable opportunity to delve into the realm of data science with such ease!\n",
      "The guidance provided by the mentors is truly priceless, and I am sincerely grateful for their unwavering mentorship. Their wealth of knowledge has been a guiding light on this learning journey.\n",
      "I want to express my sincere gratitude for the continuous support and the generosity in sharing their wealth of knowledge. Each interaction has been a stepping stone towards a deeper understanding of data science concepts.\n",
      "Being part of this learning community is truly a privilege, and I feel fortunate to connect with such experienced mentors and fellow learners. Thank you for fostering an environment where curiosity thrives and knowledge blossoms!\n"
     ]
    }
   ],
   "source": [
    "def send_messages(messages, sent_messages):\n",
    "    while messages:\n",
    "        current_message = messages.pop(0)\n",
    "        print(f\"Sending message: {current_message}\")\n",
    "        sent_messages.append(current_message)\n",
    "\n",
    "# List of short text messages thanking Arewa Data Science Machine Learning Mentors\n",
    "thank_message = [\n",
    "    \" A heartfelt appreciation to the mentors at Arewa Data Science for granting me the invaluable opportunity to delve into the realm of data science with such ease!\",\n",
    "\n",
    "\"The guidance provided by the mentors is truly priceless, and I am sincerely grateful for their unwavering mentorship. Their wealth of knowledge has been a guiding light on this learning journey.\",\n",
    "\n",
    "\"I want to express my sincere gratitude for the continuous support and the generosity in sharing their wealth of knowledge. Each interaction has been a stepping stone towards a deeper understanding of data science concepts.\",\n",
    "\n",
    "\"Being part of this learning community is truly a privilege, and I feel fortunate to connect with such experienced mentors and fellow learners. Thank you for fostering an environment where curiosity thrives and knowledge blossoms!\"\n",
    "\n",
    "]\n",
    "\n",
    "\n",
    "# Create an empty list to store sent messages\n",
    "sent_messages_list = []\n",
    "\n",
    "# Call the function to send messages and move them to the sent_messages list\n",
    "send_messages(thank_message, sent_messages_list)\n",
    "\n",
    "# Print both lists to confirm the messages were moved correctly\n",
    "print(\"\\nOriginal messages:\")\n",
    "show_messages(thank_message)\n",
    "\n",
    "print(\"\\nSent messages:\")\n",
    "show_messages(sent_messages_list)\n"
   ]
  },
  {
   "cell_type": "markdown",
   "id": "4b80a897",
   "metadata": {},
   "source": [
    "# Exercise 8-11"
   ]
  },
  {
   "cell_type": "markdown",
   "id": "09cb48f4",
   "metadata": {},
   "source": [
    "##Archived Messages: Start with your work from Exercise 8-10. Call the func- \n",
    "tion send_messages() with a copy of the list of messages. After calling the func- \n",
    "tion, print both of your lists to show that the original list has retained its messages."
   ]
  },
  {
   "cell_type": "code",
   "execution_count": null,
   "id": "8c7b2462",
   "metadata": {},
   "outputs": [
    {
     "name": "stdout",
     "output_type": "stream",
     "text": [
      "Sending message:  A heartfelt appreciation to the mentors at Arewa Data Science for granting me the invaluable opportunity to delve into the realm of data science with such ease!\n",
      "Sending message: The guidance provided by the mentors is truly priceless, and I am sincerely grateful for their unwavering mentorship. Their wealth of knowledge has been a guiding light on this learning journey.\n",
      "Sending message: I want to express my sincere gratitude for the continuous support and the generosity in sharing their wealth of knowledge. Each interaction has been a stepping stone towards a deeper understanding of data science concepts.\n",
      "Sending message: Being part of this learning community is truly a privilege, and I feel fortunate to connect with such experienced mentors and fellow learners. Thank you for fostering an environment where curiosity thrives and knowledge blossoms!\n",
      "\n",
      "Original messages:\n",
      " A heartfelt appreciation to the mentors at Arewa Data Science for granting me the invaluable opportunity to delve into the realm of data science with such ease!\n",
      "The guidance provided by the mentors is truly priceless, and I am sincerely grateful for their unwavering mentorship. Their wealth of knowledge has been a guiding light on this learning journey.\n",
      "I want to express my sincere gratitude for the continuous support and the generosity in sharing their wealth of knowledge. Each interaction has been a stepping stone towards a deeper understanding of data science concepts.\n",
      "Being part of this learning community is truly a privilege, and I feel fortunate to connect with such experienced mentors and fellow learners. Thank you for fostering an environment where curiosity thrives and knowledge blossoms!\n",
      "\n",
      "Sent messages:\n",
      " A heartfelt appreciation to the mentors at Arewa Data Science for granting me the invaluable opportunity to delve into the realm of data science with such ease!\n",
      "The guidance provided by the mentors is truly priceless, and I am sincerely grateful for their unwavering mentorship. Their wealth of knowledge has been a guiding light on this learning journey.\n",
      "I want to express my sincere gratitude for the continuous support and the generosity in sharing their wealth of knowledge. Each interaction has been a stepping stone towards a deeper understanding of data science concepts.\n",
      "Being part of this learning community is truly a privilege, and I feel fortunate to connect with such experienced mentors and fellow learners. Thank you for fostering an environment where curiosity thrives and knowledge blossoms!\n"
     ]
    }
   ],
   "source": [
    "def send_messages(messages, sent_messages):\n",
    "    while messages:\n",
    "        current_message = messages.pop(0)\n",
    "        print(f\"Sending message: {current_message}\")\n",
    "        sent_messages.append(current_message)\n",
    "\n",
    "# List of short text messages thanking Arewa Data Science Machine Learning Mentors\n",
    "thank_message = [\n",
    "    \" A heartfelt appreciation to the mentors at Arewa Data Science for granting me the invaluable opportunity to delve into the realm of data science with such ease!\",\n",
    "\n",
    "\"The guidance provided by the mentors is truly priceless, and I am sincerely grateful for their unwavering mentorship. Their wealth of knowledge has been a guiding light on this learning journey.\",\n",
    "\n",
    "\"I want to express my sincere gratitude for the continuous support and the generosity in sharing their wealth of knowledge. Each interaction has been a stepping stone towards a deeper understanding of data science concepts.\",\n",
    "\n",
    "\"Being part of this learning community is truly a privilege, and I feel fortunate to connect with such experienced mentors and fellow learners. Thank you for fostering an environment where curiosity thrives and knowledge blossoms!\"\n",
    "\n",
    "]\n",
    "\n",
    "# Create a copy of the original messages list\n",
    "original_messages = thank_message.copy()\n",
    "\n",
    "# Create an empty list to store sent messages\n",
    "sent_messages_list = []\n",
    "\n",
    "# Call the function to send messages and move them to the sent_messages list\n",
    "send_messages(original_messages.copy(), sent_messages_list)\n",
    "\n",
    "# Print both lists to show that the original list has retained its messages\n",
    "print(\"\\nOriginal messages:\")\n",
    "show_messages(original_messages)\n",
    "\n",
    "print(\"\\nSent messages:\")\n",
    "show_messages(sent_messages_list)\n"
   ]
  },
  {
   "cell_type": "markdown",
   "id": "f5ae1360",
   "metadata": {},
   "source": [
    "# Exercise 8-12"
   ]
  },
  {
   "cell_type": "markdown",
   "id": "b71dab78",
   "metadata": {},
   "source": [
    "##Sandwiches: Write a function that accepts a list of items a person wants \n",
    "on a sandwich. The function should have one parameter that collects as many \n",
    "items as the function call provides, and it should print a summary of the sand- \n",
    "wich that’s being ordered. Call the function three times, using a different num- \n",
    "ber of arguments each time"
   ]
  },
  {
   "cell_type": "code",
   "execution_count": null,
   "id": "b11351c4",
   "metadata": {},
   "outputs": [
    {
     "name": "stdout",
     "output_type": "stream",
     "text": [
      "\n",
      "Making a local food with the following ingredients:\n",
      "- Danwake\n",
      "- Miyan Taushe\n",
      "\n",
      "Making a local food with the following ingredients:\n",
      "- Shinkafa da wake\n",
      "-  Suya milk\n",
      "- Dambu Nama\n",
      "\n",
      "Making a local food with the following ingredients:\n",
      "- Alala\n",
      "- Tuwon Shinkafa\n",
      "- Kuka Soup\n",
      "- Orange Juice\n"
     ]
    }
   ],
   "source": [
    "#Sandwiches change to Kano local food\n",
    "def make_dambu(*ingredients):\n",
    "    print(\"\\nMaking a local food with the following ingredients:\")\n",
    "    for ingredient in ingredients:\n",
    "        print(f\"- {ingredient}\")\n",
    "\n",
    "# Call the function three times with a different number of arguments each time\n",
    "make_dambu('Danwake', 'Miyan Taushe')\n",
    "make_dambu('Shinkafa da wake', ' Suya milk', 'Dambu Nama')\n",
    "make_dambu('Alala', 'Tuwon Shinkafa', 'Kuka Soup', 'Orange Juice')\n"
   ]
  },
  {
   "cell_type": "markdown",
   "id": "90366752",
   "metadata": {},
   "source": [
    "# Exercise 8-13"
   ]
  },
  {
   "cell_type": "markdown",
   "id": "e28d074c",
   "metadata": {},
   "source": [
    "User Profile: Start with a copy of user_profile.py from p a g e 148. Build a \n",
    "profile of yourself by calling build_profile(), using your first and last names \n",
    "and three other key-value pairs that describe you."
   ]
  },
  {
   "cell_type": "code",
   "execution_count": null,
   "id": "d8f05f9d",
   "metadata": {},
   "outputs": [
    {
     "name": "stdout",
     "output_type": "stream",
     "text": [
      "{'occupation': 'Mobile App Developer', 'expertise': 'AI and Machine Learning Enthusiast', 'location': 'Kano, Nigeria', 'first_name': 'Sadiq', 'last_name': 'Muhammad Aliyu'}\n"
     ]
    }
   ],
   "source": [
    "def build_profile(first, last, **user_info):\n",
    "    \"\"\"Build a dictionary containing everything we know about a user.\"\"\"\n",
    "    user_info['first_name'] = first\n",
    "    user_info['last_name'] = last\n",
    "    return user_info\n",
    "\n",
    "# Build a profile for yourself with location set to 'Kano, Nigeria'\n",
    "my_profile = build_profile('Sadiq', 'Muhammad Aliyu',\n",
    "                           occupation='Mobile App Developer',\n",
    "                           expertise='AI and Machine Learning Enthusiast',\n",
    "                           location='Kano, Nigeria')\n",
    "\n",
    "# Print the user profile\n",
    "print(my_profile)\n"
   ]
  },
  {
   "cell_type": "markdown",
   "id": "977f368e",
   "metadata": {},
   "source": [
    "# Exercise 8-14"
   ]
  },
  {
   "cell_type": "markdown",
   "id": "246e4e03",
   "metadata": {},
   "source": [
    "Cars: Write a function that stores information about a car in a diction- \n",
    "ary. The function should always receive a manufacturer and a model name. It \n",
    "should then accept an arbitrary number of keyword arguments. Call the func- \n",
    "tion with the required information and two other name-value pairs, such as a \n",
    "color or an optional feature. Your function should work for a call like this one:\n",
    "One advantage of functions is the way they separate blocks of code from \n",
    "your main program. When you use descriptive names for your functions, \n",
    "your programs become much easier to follow. You can go a step further by \n",
    "storing your functions in a separate file called a module and then importing \n",
    "that module into your main program. An import statement tells Python to \n",
    "make the code in a module available in the currently running program file.\n",
    "Storing your functions in a separate file allows you to hide the details of \n",
    "your program’s code and focus on its higher-level logic. It also allows you to \n",
    "reuse functions in many different programs. When you store your functions \n",
    "in separate files, you can share those files with other programmers without \n",
    "Functions   149\n",
    "Print the dictionary that’s returned to make sure all the information was \n",
    "stored correctly."
   ]
  },
  {
   "cell_type": "code",
   "execution_count": null,
   "id": "67041010",
   "metadata": {},
   "outputs": [
    {
     "name": "stdout",
     "output_type": "stream",
     "text": [
      "{'manufacturer': 'Toyota', 'model': 'Camry', 'color': 'Blue', 'year': 2022}\n"
     ]
    }
   ],
   "source": [
    "def car_info(manufacturer, model, **additional_info):\n",
    "    car_dict = {\n",
    "        'manufacturer': manufacturer,\n",
    "        'model': model,\n",
    "    }\n",
    "    car_dict.update(additional_info)\n",
    "    return car_dict\n",
    "\n",
    "# Call the function with required information and two other name-value pairs\n",
    "car_information = car_info('Toyota', 'Camry', color='Blue', year=2022)\n",
    "\n",
    "# Print the dictionary to make sure all the information was stored correctly\n",
    "print(car_information)\n"
   ]
  },
  {
   "cell_type": "markdown",
   "id": "88193f06",
   "metadata": {},
   "source": [
    "# Exercise 8-15"
   ]
  },
  {
   "cell_type": "markdown",
   "id": "05e64136",
   "metadata": {},
   "source": [
    " Printing Models: Put the functions for the example printing_models.py in a \n",
    "separate file called printing_functions.py. Write an import statement at the top \n",
    "of printing_models.py, and modify the file to use the imported functions."
   ]
  },
  {
   "cell_type": "code",
   "execution_count": 1,
   "id": "ebd5e5ae",
   "metadata": {},
   "outputs": [
    {
     "name": "stdout",
     "output_type": "stream",
     "text": [
      "Printing model: Water pipe\n",
      "Printing model: Dustbin\n",
      "Printing model: broom\n",
      "Printing model: packer\n",
      "\n",
      "Completed models:\n",
      "Water pipe\n",
      "Dustbin\n",
      "broom\n",
      "packer\n"
     ]
    }
   ],
   "source": [
    "# printing_models.py\n",
    "from printing_functions import print_models, show_completed_models\n",
    "\n",
    "# Sample data of Nigerian products\n",
    "nigerian_products = ['packer', 'broom', 'Dustbin', 'Water pipe']\n",
    "\n",
    "completed_models = []\n",
    "\n",
    "# Use the imported functions\n",
    "print_models(nigerian_products, completed_models)\n",
    "show_completed_models(completed_models)\n",
    "\n"
   ]
  },
  {
   "cell_type": "markdown",
   "id": "815a9d2a",
   "metadata": {},
   "source": [
    "# Exercise 8-16"
   ]
  },
  {
   "cell_type": "markdown",
   "id": "688e4f36",
   "metadata": {},
   "source": [
    "Imports: Using a program you wrote that has one function in it, store that \n",
    "function in a separate file. Import the function into your main program file, and \n",
    "call the function using each of these approaches:\n",
    "import module_name\n",
    "from module_name import function_name\n",
    "from module_name import function_name as fn \n",
    "import module_name as mn\n",
    "from module_name import *"
   ]
  },
  {
   "cell_type": "code",
   "execution_count": 2,
   "id": "919c0eb1",
   "metadata": {
    "scrolled": true
   },
   "outputs": [],
   "source": [
    "# main.py\n",
    "\n",
    "import my\n"
   ]
  },
  {
   "cell_type": "code",
   "execution_count": 7,
   "id": "a68b22c3",
   "metadata": {},
   "outputs": [
    {
     "name": "stdout",
     "output_type": "stream",
     "text": [
      "Hello\n",
      "Hello\n",
      "Hello\n",
      "Hello\n",
      "Hello\n"
     ]
    }
   ],
   "source": [
    "# main_program.py\n",
    "\n",
    "# Approach 1: import module_name\n",
    "import my\n",
    "\n",
    "# Call the function using the imported module\n",
    "my.greet(\"Aliyu\")\n",
    "\n",
    "# Approach 2: from module_name import function_name\n",
    "from my import greet\n",
    "\n",
    "# Call the function directly\n",
    "greet(\"Sadiya\")\n",
    "\n",
    "# Approach 3: from module_name import function_name as fn\n",
    "from my import greet as greeting\n",
    "\n",
    "# Call the function using the imported function with an alias\n",
    "greeting(\"Muhammad\")\n",
    "\n",
    "# Approach 4: import module_name as mn\n",
    "import my as my_mod\n",
    "\n",
    "# Call the function using the imported module with an alias\n",
    "my.greet(\"Aliyu\")\n",
    "\n",
    "# Approach 5: from module_name import *\n",
    "from my import *\n",
    "\n",
    "# Call the function directly (not recommended for larger projects)\n",
    "greet(\"Umar\")\n"
   ]
  },
  {
   "cell_type": "markdown",
   "id": "df879ffd",
   "metadata": {},
   "source": [
    "# Exercise 8-17"
   ]
  },
  {
   "cell_type": "markdown",
   "id": "47a790d0",
   "metadata": {},
   "source": [
    " Styling Functions: Choose any three programs you wrote for this chapter, \n",
    "and make sure they follow the styling guidelines described in this section."
   ]
  },
  {
   "cell_type": "markdown",
   "id": "860def56",
   "metadata": {},
   "source": [
    "#Example 1: make_shirt Function"
   ]
  },
  {
   "cell_type": "code",
   "execution_count": 8,
   "id": "05ec1dc9",
   "metadata": {},
   "outputs": [
    {
     "name": "stdout",
     "output_type": "stream",
     "text": [
      "Shirt order: Size - Large, Message - 'I love Python'\n",
      "Shirt order: Size - Medium, Message - 'I love Python'\n",
      "Shirt order: Size - Small, Message - 'Custom message'\n"
     ]
    }
   ],
   "source": [
    "def make_shirt(size='large', message='I love Python'):\n",
    "    \"\"\"Prints a shirt order summary.\"\"\"\n",
    "    print(f\"Shirt order: Size - {size.title()}, Message - '{message}'\")\n",
    "\n",
    "# Example usage\n",
    "make_shirt()  # Large shirt with default message\n",
    "make_shirt(size='medium')  # Medium shirt with default message\n",
    "make_shirt(size='small', message='Custom message')  # Small shirt with custom message\n"
   ]
  },
  {
   "cell_type": "markdown",
   "id": "11f027da",
   "metadata": {},
   "source": [
    "#Example 2: describe_city Function"
   ]
  },
  {
   "cell_type": "code",
   "execution_count": 9,
   "id": "73177485",
   "metadata": {},
   "outputs": [
    {
     "name": "stdout",
     "output_type": "stream",
     "text": [
      "London is in England.\n",
      "Kano is in Nigeria.\n",
      "Lagos is in Unknown.\n"
     ]
    }
   ],
   "source": [
    "def describe_city(city, country='Unknown'):\n",
    "    \"\"\"Prints a sentence describing the city and its country.\"\"\"\n",
    "    print(f\"{city.title()} is in {country.title()}.\")\n",
    "\n",
    "# Example usage\n",
    "describe_city('London', 'England')\n",
    "describe_city('Kano', 'Nigeria')\n",
    "describe_city('Lagos')  # Assumes default country 'Unknown'\n"
   ]
  },
  {
   "cell_type": "markdown",
   "id": "49a2feb0",
   "metadata": {},
   "source": [
    "#Example 3: make_album Function with Optional Parameter"
   ]
  },
  {
   "cell_type": "code",
   "execution_count": 10,
   "id": "0e137295",
   "metadata": {},
   "outputs": [
    {
     "name": "stdout",
     "output_type": "stream",
     "text": [
      "{'artist': 'lilwayne', 'title': 'lollipop', 'songs': 12}\n",
      "{'artist': 'Psquare', 'title': 'no time'}\n",
      "{'artist': 'Traviscot', 'title': 'Here me', 'songs': 16}\n"
     ]
    }
   ],
   "source": [
    "def make_album(artist, title, songs=None):\n",
    "    \"\"\"Builds a dictionary describing a music album.\"\"\"\n",
    "    album_info = {'artist': artist, 'title': title}\n",
    "    if songs is not None:\n",
    "        album_info['songs'] = songs\n",
    "    return album_info\n",
    "\n",
    "# Example usage\n",
    "album = make_album('lilwayne', 'lollipop', 12)\n",
    "album2 = make_album('Psquare', 'no time')\n",
    "album3 = make_album('Traviscot', 'Here me', 16)\n",
    "\n",
    "print(album )\n",
    "print(album2)\n",
    "print(album3)\n"
   ]
  }
 ],
 "metadata": {
  "kernelspec": {
   "display_name": "Python 3 (ipykernel)",
   "language": "python",
   "name": "python3"
  },
  "language_info": {
   "codemirror_mode": {
    "name": "ipython",
    "version": 3
   },
   "file_extension": ".py",
   "mimetype": "text/x-python",
   "name": "python",
   "nbconvert_exporter": "python",
   "pygments_lexer": "ipython3",
   "version": "3.11.5"
  }
 },
 "nbformat": 4,
 "nbformat_minor": 5
}
